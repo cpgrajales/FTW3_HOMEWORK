{
 "cells": [
  {
   "cell_type": "markdown",
   "metadata": {
    "colab_type": "text",
    "id": "fhejWVYs5dLy"
   },
   "source": [
    "#1.2"
   ]
  },
  {
   "cell_type": "code",
   "execution_count": 1,
   "metadata": {
    "colab": {
     "base_uri": "https://localhost:8080/",
     "height": 34
    },
    "colab_type": "code",
    "id": "JCJeksub5l6p",
    "outputId": "4cf009d0-1272-4671-b47c-c9c7ac16ab38"
   },
   "outputs": [
    {
     "name": "stdout",
     "output_type": "stream",
     "text": [
      "Hi my name is Julie and I am 42 years old.\n"
     ]
    }
   ],
   "source": [
    "#Exercise 1\n",
    "\n",
    "name = \"Julie\"\n",
    "age = \"42\"\n",
    "sentence =\"Hi my name is Julie and I am 42 years old.\"\n",
    "\n",
    "print(sentence.format(name,age))"
   ]
  },
  {
   "cell_type": "code",
   "execution_count": 2,
   "metadata": {
    "colab": {
     "base_uri": "https://localhost:8080/",
     "height": 34
    },
    "colab_type": "code",
    "id": "LKrqq1YV5svT",
    "outputId": "94909ecc-10e4-46e8-9139-0ebdf2d22f42"
   },
   "outputs": [
    {
     "name": "stdout",
     "output_type": "stream",
     "text": [
      "You are before or after the 21st century\n"
     ]
    }
   ],
   "source": [
    "#Exercise 2\n",
    "\n",
    "year = 1830\n",
    "\n",
    "if (year >= 2000) and (year <= 2100):\n",
    "  print(\"Welcome to the 21st century\")\n",
    "\n",
    "else:\n",
    "  print(\"You are before or after the 21st century\")"
   ]
  },
  {
   "cell_type": "code",
   "execution_count": 3,
   "metadata": {
    "colab": {
     "base_uri": "https://localhost:8080/",
     "height": 34
    },
    "colab_type": "code",
    "id": "ZsfCORbX5xZ7",
    "outputId": "3539bf96-c783-469a-b0d3-97214b6e3f74"
   },
   "outputs": [
    {
     "data": {
      "text/plain": [
       "'hellohellohello'"
      ]
     },
     "execution_count": 3,
     "metadata": {},
     "output_type": "execute_result"
    }
   ],
   "source": [
    "#Exercise 3\n",
    "\n",
    "\"hello\"*3"
   ]
  },
  {
   "cell_type": "code",
   "execution_count": 4,
   "metadata": {
    "colab": {
     "base_uri": "https://localhost:8080/",
     "height": 34
    },
    "colab_type": "code",
    "id": "SG3lEijP50z7",
    "outputId": "b47a89ed-e8df-4e86-ec1b-ee905ec00f1e"
   },
   "outputs": [
    {
     "name": "stdout",
     "output_type": "stream",
     "text": [
      "['Spizikes', 'Air Force 1', 'Curry 2', 'Melo 5']\n"
     ]
    }
   ],
   "source": [
    "#Exercise 4\n",
    "\n",
    "shoes = [\"Spizikes\", \"Air Force 1\", \"Curry 2\", \"Melo 5\"]\n",
    "print(shoes)"
   ]
  },
  {
   "cell_type": "code",
   "execution_count": 5,
   "metadata": {
    "colab": {
     "base_uri": "https://localhost:8080/",
     "height": 153
    },
    "colab_type": "code",
    "id": "RXNqBAwJ58E_",
    "outputId": "5490afa8-a6dc-47dd-bd31-c32727b8bd5f"
   },
   "outputs": [
    {
     "name": "stdout",
     "output_type": "stream",
     "text": [
      "91\n",
      "94\n",
      "94\n",
      "94\n",
      "98\n",
      "96\n",
      "98\n",
      "92\n"
     ]
    }
   ],
   "source": [
    "#Exercise 5\n",
    "\n",
    "numbers = [ 76, 83, 16, 69, 52, 78, 10, 77, 45, 52,\n",
    "    32, 17, 58, 54, 79, 72, 55, 50, 81, 74,\n",
    "    45, 33, 38, 10, 40, 44, 70, 81, 79, 28,\n",
    "    83, 41, 14, 16, 27, 38, 20, 84, 24, 50,\n",
    "    59, 71, 1, 13, 56, 91, 29, 54, 65, 23,\n",
    "    60, 57, 13, 39, 58, 94, 94, 42, 46, 58,\n",
    "    59, 29, 69, 60, 83, 9, 83, 5, 64, 70,\n",
    "    55, 89, 67, 89, 70, 8, 90, 17, 48, 17,\n",
    "    94, 18, 98, 72, 96, 26, 13, 7, 58, 67,\n",
    "    38, 48, 43, 98, 65, 8, 74, 44, 92 ]\n",
    "\n",
    "for number in numbers:\n",
    "  if number > 90:\n",
    "    print(number)"
   ]
  },
  {
   "cell_type": "code",
   "execution_count": 6,
   "metadata": {
    "colab": {
     "base_uri": "https://localhost:8080/",
     "height": 34
    },
    "colab_type": "code",
    "id": "s6wwitec6ArO",
    "outputId": "54a280bb-79da-4811-f003-9a97ef14a8c9"
   },
   "outputs": [
    {
     "data": {
      "text/plain": [
       "'Slang for Pokemon Go'"
      ]
     },
     "execution_count": 6,
     "metadata": {},
     "output_type": "execute_result"
    }
   ],
   "source": [
    "#Exercise 6\n",
    "\n",
    "words = {\"PoGo\":\"Slang for Pokemon Go\" ,\"Spange\": \"To collect spare change, either from couches, passerbys on the street or any numerous other ways and means\",\"Lie-Fi\": \"When your phone or tablet indicates that you are connected to a wireless network, however you are still unable to load webpages or use any internet services with your device\"}\n",
    "words[\"PoGo\"]\n",
    "#words[\"Spange\"]\n",
    "#words[\"Lie-Fi\"]"
   ]
  },
  {
   "cell_type": "code",
   "execution_count": 7,
   "metadata": {
    "colab": {},
    "colab_type": "code",
    "id": "yzuAfhsNDc09"
   },
   "outputs": [],
   "source": [
    "year = 2010\n",
    "make = 'made in japan'\n",
    "model = 'model 2010'"
   ]
  },
  {
   "cell_type": "code",
   "execution_count": 8,
   "metadata": {
    "colab": {
     "base_uri": "https://localhost:8080/",
     "height": 34
    },
    "colab_type": "code",
    "id": "fEtKhcv16Fju",
    "outputId": "7083f8ed-162b-497a-899f-dd14eed82a2b"
   },
   "outputs": [
    {
     "data": {
      "text/plain": [
       "5"
      ]
     },
     "execution_count": 8,
     "metadata": {},
     "output_type": "execute_result"
    }
   ],
   "source": [
    "#Exercise 7\n",
    "\n",
    "class Car:\n",
    "\n",
    "    def __init__(self, year, make, model):\n",
    "        self.year = year\n",
    "        self.make = make\n",
    "        self.model = model\n",
    "\n",
    "    def age(self):\n",
    "      return 2019 - self.year\n",
    "car_object = Car(2014, 'Made in Italy', 'Toyota')\n",
    "car_object.age()\n",
    "    \n",
    "\n"
   ]
  },
  {
   "cell_type": "markdown",
   "metadata": {
    "colab_type": "text",
    "id": "BancVPzH6WIb"
   },
   "source": [
    "#1.2.2"
   ]
  },
  {
   "cell_type": "code",
   "execution_count": 9,
   "metadata": {
    "colab": {
     "base_uri": "https://localhost:8080/",
     "height": 54
    },
    "colab_type": "code",
    "id": "y5QdQCe86eps",
    "outputId": "37844d97-9205-40e4-bd9b-1da22b99c4d2"
   },
   "outputs": [
    {
     "name": "stdout",
     "output_type": "stream",
     "text": [
      "{'work': 18, 'he': 3, 'said': 1, 'me': 8, 'haffi': 1, 'see': 1, 'do': 1, 'mi': 1, 'dirt': 6, 'so': 1, 'put': 1, 'in': 2, 'when': 1, 'you': 10, 'ah': 2, 'gon': 1, 'learn': 5, 'nuh': 6, 'care': 1, 'if': 1, 'him': 3, 'hurt': 4, 'hurting': 1, 'dry': 1, 'a': 2, 'desert': 1, 'time': 1, 'to': 2, 'have': 1, 'lurking': 1, 'go': 1, 'act': 1, 'like': 2, 'it': 1, 'know': 1, 'i': 5, 'dealt': 1, 'with': 1, 'the': 1, 'nicest': 1, 'body': 1, 'touch': 1, 'righteous': 1, 'badda': 1, 'text': 1, 'crisis': 1, 'believed': 1, 'all': 2, 'of': 1, 'your': 1, 'dreams': 1, 'adoration': 1, 'took': 2, 'my': 6, 'heart': 2, 'and': 2, 'keys': 1, 'patience': 1, 'on': 1, 'sleeve': 1, 'for': 3, 'decoration': 1, 'mistaken': 1, 'love': 1, 'brought': 1, 'foundation': 1, 'that': 3, 'wanted': 1, 'from': 1, 'was': 1, 'give': 1, 'something': 3, 'never': 2, 'had': 1, 'youve': 1, 'seen': 1}\n"
     ]
    }
   ],
   "source": [
    "#Create a program that lists all of the unique words in a song and displays the count of each unique word.\n",
    "import re\n",
    "\n",
    "user_str = \"\"\"\n",
    "Work, work, work, work, work, work\n",
    "He said me haffi\n",
    "Work, work, work, work, work, work\n",
    "He see me do mi\n",
    "Dirt, dirt, dirt, dirt, dirt, dirt\n",
    "So me put in\n",
    "Work, work, work, work, work, work\n",
    "When you ah gon'\n",
    "Learn, learn, learn, learn, learn\n",
    "Me nuh care if him\n",
    "Hurt, hurt, hurt, hurt, hurting\n",
    "Dry, me a desert him\n",
    "Nuh time to have you lurking\n",
    "Him ah go act like he nuh like it\n",
    "You know I dealt with you the nicest\n",
    "Nuh body touch me you nuh righteous\n",
    "Nuh badda, text me in a crisis\n",
    "I believed all of your dreams, adoration\n",
    "You took my heart and my keys and my patience\n",
    "You took my heart on my sleeve for decoration\n",
    "You mistaken my love I brought for you for foundation\n",
    "All that I wanted from you was to give me\n",
    "Something that I never had\n",
    "Something that you've never seen\n",
    "Something\n",
    "\"\"\"\n",
    "\n",
    "# Split words to list\n",
    "x = user_str.lower().split()\n",
    "\n",
    "# Clean words by removing non-alphanumeric\n",
    "clean_x = [re.sub(r'\\W+', '', word) for word in x]\n",
    "x = {}\n",
    "for y in clean_x:\n",
    "  x[y] = x.get(y, 0)+ 1\n",
    "print(x)"
   ]
  },
  {
   "cell_type": "markdown",
   "metadata": {
    "colab_type": "text",
    "id": "93Wmg11s7S1b"
   },
   "source": [
    "#1.2.3"
   ]
  },
  {
   "cell_type": "code",
   "execution_count": 10,
   "metadata": {
    "colab": {
     "base_uri": "https://localhost:8080/",
     "height": 34
    },
    "colab_type": "code",
    "id": "bNPT2Mx285bk",
    "outputId": "9944b7a0-d735-4a2e-82a8-0ff87617a2ae"
   },
   "outputs": [
    {
     "name": "stdout",
     "output_type": "stream",
     "text": [
      "2401\n"
     ]
    }
   ],
   "source": [
    "# What is 7 to the power of 4?\n",
    "\n",
    "print (7**4)"
   ]
  },
  {
   "cell_type": "code",
   "execution_count": 11,
   "metadata": {
    "colab": {
     "base_uri": "https://localhost:8080/",
     "height": 34
    },
    "colab_type": "code",
    "id": "pER3cDIW9Pd8",
    "outputId": "67b6a0c2-4dfa-4891-f5e4-618df779517d"
   },
   "outputs": [
    {
     "name": "stdout",
     "output_type": "stream",
     "text": [
      "['Hi', 'there', 'Sam!']\n"
     ]
    }
   ],
   "source": [
    "#Split the string\n",
    "\n",
    "string = \"Hi there Sam!\"\n",
    "print(string.split())"
   ]
  },
  {
   "cell_type": "code",
   "execution_count": 12,
   "metadata": {
    "colab": {
     "base_uri": "https://localhost:8080/",
     "height": 34
    },
    "colab_type": "code",
    "id": "dnW_lC5J9nQ0",
    "outputId": "c210493a-fa60-4f24-e4aa-66d5fbc9b02a"
   },
   "outputs": [
    {
     "data": {
      "text/plain": [
       "'The diameter of Earth is 12742 kilometers.'"
      ]
     },
     "execution_count": 12,
     "metadata": {},
     "output_type": "execute_result"
    }
   ],
   "source": [
    "#Given the variables\n",
    "\n",
    "planet = \"Earth\"\n",
    "diameter = 12742\n",
    "f\"The diameter of {planet} is {diameter} kilometers.\""
   ]
  },
  {
   "cell_type": "code",
   "execution_count": 13,
   "metadata": {
    "colab": {
     "base_uri": "https://localhost:8080/",
     "height": 34
    },
    "colab_type": "code",
    "id": "FthvMBeH-Chz",
    "outputId": "d7fcf2f5-c46d-47c6-8b0b-307469c31527"
   },
   "outputs": [
    {
     "data": {
      "text/plain": [
       "'hello'"
      ]
     },
     "execution_count": 13,
     "metadata": {},
     "output_type": "execute_result"
    }
   ],
   "source": [
    "#Given this nested list, use indexing to grab the word \"hello\"\n",
    "\n",
    "lst = [1,2,[3,4],[5,[100,200,['hello']],23,11],1,7]\n",
    "\n",
    "lst[3][1][2][0]"
   ]
  },
  {
   "cell_type": "code",
   "execution_count": 14,
   "metadata": {
    "colab": {
     "base_uri": "https://localhost:8080/",
     "height": 34
    },
    "colab_type": "code",
    "id": "wTs5OiAu-5UG",
    "outputId": "9178c56a-6749-4a9c-d698-4a85a2c7e20c"
   },
   "outputs": [
    {
     "data": {
      "text/plain": [
       "dict_keys(['k1'])"
      ]
     },
     "execution_count": 14,
     "metadata": {},
     "output_type": "execute_result"
    }
   ],
   "source": [
    "#Given this nested dictionary grab the word \"hello\". Be prepared, this will be annoying/tricky\n",
    "\n",
    "d = {'k1':[1,2,3,{'tricky':['oh','man','inception',{'target':[1,2,3,'hello']}]}]}\n",
    "d.keys()"
   ]
  },
  {
   "cell_type": "code",
   "execution_count": 15,
   "metadata": {
    "colab": {
     "base_uri": "https://localhost:8080/",
     "height": 34
    },
    "colab_type": "code",
    "id": "sG1Rpw0G_dxh",
    "outputId": "ccee5201-b3b6-43c8-de31-103649838495"
   },
   "outputs": [
    {
     "data": {
      "text/plain": [
       "'hello'"
      ]
     },
     "execution_count": 15,
     "metadata": {},
     "output_type": "execute_result"
    }
   ],
   "source": [
    "d[\"k1\"][3]['tricky'][3][\"target\"][3]"
   ]
  },
  {
   "cell_type": "code",
   "execution_count": 16,
   "metadata": {
    "colab": {},
    "colab_type": "code",
    "id": "VL3HYAZW_5IQ"
   },
   "outputs": [],
   "source": [
    "#What is the main difference between a tuple and a list? \n",
    "#tuple is immutable\n",
    "\n",
    "t = (1, 2, 3)\n",
    "list = [1, 2, 3, 4, 5]"
   ]
  },
  {
   "cell_type": "code",
   "execution_count": 17,
   "metadata": {
    "colab": {
     "base_uri": "https://localhost:8080/",
     "height": 34
    },
    "colab_type": "code",
    "id": "iwN_yW8IAZrx",
    "outputId": "b82ad419-a8b7-4658-da49-6c6cf1676e0a"
   },
   "outputs": [
    {
     "data": {
      "text/plain": [
       "'domain.com'"
      ]
     },
     "execution_count": 17,
     "metadata": {},
     "output_type": "execute_result"
    }
   ],
   "source": [
    "#Create a function that grabs the email website domain from a string in the form:\n",
    "\n",
    "'user@domain.com'.split('@')[1]\n"
   ]
  },
  {
   "cell_type": "code",
   "execution_count": null,
   "metadata": {
    "colab": {
     "base_uri": "https://localhost:8080/",
     "height": 51
    },
    "colab_type": "code",
    "id": "Ptmqeab1DSN-",
    "outputId": "6e9c202f-8af3-471f-c002-71e3f5ee37ae"
   },
   "outputs": [],
   "source": [
    "#Create a basic function that returns True if the word 'dog' is contained in the input string. Don't worry about edge cases like a punctuation being attached to the word dog, but do account for capitalization.\n",
    "\n",
    "def findDog(st):\n",
    "    if 'dog' in st.lower():\n",
    "        print(\"True\")\n",
    "    else:\n",
    "        print(\"False\")\n",
    "\n",
    "st = input(\"Please key a string: >\")\n",
    "findDog(st)\n",
    "\n"
   ]
  },
  {
   "cell_type": "code",
   "execution_count": null,
   "metadata": {
    "colab": {
     "base_uri": "https://localhost:8080/",
     "height": 68
    },
    "colab_type": "code",
    "id": "E5yOf7DL8sr4",
    "outputId": "587e133e-d0ac-44ed-d484-e4ac9918d4ab"
   },
   "outputs": [],
   "source": [
    "#Create a function that counts the number of times the word \"dog\" occurs in a string. Again ignore edge cases. \n",
    "\n",
    "string = input(\"Please enter your string: \")\n",
    "\n",
    "def countdogs(string):\n",
    "    count = 0\n",
    "    for word in string.lower().split():\n",
    "        if word == 'dog' or word == 'dogs':\n",
    "            count = count + 1\n",
    "            print(count)\n",
    "\n",
    "countdogs(string)"
   ]
  },
  {
   "cell_type": "code",
   "execution_count": null,
   "metadata": {
    "colab": {
     "base_uri": "https://localhost:8080/",
     "height": 34
    },
    "colab_type": "code",
    "id": "RG2vt3lt-wXK",
    "outputId": "d984c4ca-9591-403d-b0e4-41036a159e6e"
   },
   "outputs": [],
   "source": [
    "# Use lambda expressions and the filter() function to filter out words from a list that don't start with the letter 's'. For example:\n",
    "\n",
    "seq = ['soup','dog','salad','cat','great']\n",
    "\n",
    "list(filter(lambda word: word[0]=='s',seq))"
   ]
  },
  {
   "cell_type": "code",
   "execution_count": null,
   "metadata": {
    "colab": {
     "base_uri": "https://localhost:8080/",
     "height": 136
    },
    "colab_type": "code",
    "id": "3mhzTJlm_a-L",
    "outputId": "58fbb758-28f7-41e7-8d6f-56bc3e9f5a39"
   },
   "outputs": [],
   "source": [
    "#final problem\n",
    "print(\"Please enter the speed(km/h)(only number please): \\n\")\n",
    "speed = int(input(\"> \"))\n",
    "\n",
    "print(\"Please enter your birthday: (in DD/MM/YYYY format)\\n\")\n",
    "birthday = str(input(\"> \"))\n",
    "\n",
    "def speeding(speed, birthday):\n",
    "    if birthday == '29/08/1989':\n",
    "        s = speed - 5\n",
    "    else:\n",
    "        s = speed\n",
    "\n",
    "    if s <= 60:\n",
    "        print(\"You pass.\")\n",
    "    elif s > 61 and s <= 80:\n",
    "        print(\"You get a small ticket\")\n",
    "    else:\n",
    "        print(\"You get a big ticket.\")\n",
    "\n",
    "speeding(speed, birthday)"
   ]
  },
  {
   "cell_type": "code",
   "execution_count": null,
   "metadata": {},
   "outputs": [],
   "source": []
  },
  {
   "cell_type": "code",
   "execution_count": null,
   "metadata": {},
   "outputs": [],
   "source": []
  }
 ],
 "metadata": {
  "colab": {
   "collapsed_sections": [],
   "name": "Python Fundamentals HW",
   "provenance": []
  },
  "kernelspec": {
   "display_name": "Python 3",
   "language": "python",
   "name": "python3"
  },
  "language_info": {
   "codemirror_mode": {
    "name": "ipython",
    "version": 3
   },
   "file_extension": ".py",
   "mimetype": "text/x-python",
   "name": "python",
   "nbconvert_exporter": "python",
   "pygments_lexer": "ipython3",
   "version": "3.7.4"
  }
 },
 "nbformat": 4,
 "nbformat_minor": 1
}
